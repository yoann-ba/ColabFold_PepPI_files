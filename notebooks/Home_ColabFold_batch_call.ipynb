{
  "cells": [
    {
      "cell_type": "code",
      "execution_count": null,
      "metadata": {
        "id": "ZyPqBTkm6pi9"
      },
      "outputs": [],
      "source": []
    },
    {
      "cell_type": "markdown",
      "metadata": {
        "id": "plCp1YOG6yo0"
      },
      "source": [
        "# Set Up\n",
        "\n",
        "Can take ~1min - 1min30s"
      ]
    },
    {
      "cell_type": "code",
      "execution_count": null,
      "metadata": {
        "cellView": "form",
        "id": "iW6f_ebh63j9"
      },
      "outputs": [],
      "source": [
        "#@title Mount google drive\n",
        "from google.colab import drive\n",
        "drive.mount('/content/drive')\n",
        "from sys import version_info\n",
        "python_version = f\"{version_info.major}.{version_info.minor}\""
      ]
    },
    {
      "cell_type": "code",
      "execution_count": null,
      "metadata": {
        "cellView": "form",
        "id": "zc37WNMf9FPS"
      },
      "outputs": [],
      "source": [
        "#@title Fixed params\n",
        "\n",
        "custom_template_path = None\n",
        "use_templates = False\n",
        "\n",
        "num_relax = 0\n",
        "use_amber = num_relax > 0\n",
        "\n",
        "use_custom_msa = False\n",
        "\n",
        "msa_mode = \"MMseqs2 (UniRef+Environmental)\" #param [\"MMseqs2 (UniRef+Environmental)\", \"MMseqs2 (UniRef only)\",\"single_sequence\",\"custom\"]\n",
        "pair_mode = \"unpaired\"\n"
      ]
    },
    {
      "cell_type": "code",
      "execution_count": null,
      "metadata": {
        "id": "62HUccrN64f6",
        "cellView": "form"
      },
      "outputs": [],
      "source": [
        "#@title Install dependencies\n",
        "%%bash -s $use_amber $use_templates $python_version\n",
        "\n",
        "set -e\n",
        "\n",
        "USE_AMBER=$1\n",
        "USE_TEMPLATES=$2\n",
        "PYTHON_VERSION=$3\n",
        "\n",
        "if [ ! -f COLABFOLD_READY ]; then\n",
        "  # install dependencies\n",
        "  # We have to use \"--no-warn-conflicts\" because colab already has a lot preinstalled with requirements different to ours\n",
        "  pip install -q --no-warn-conflicts \"colabfold[alphafold-minus-jax] @ git+https://github.com/yoann-ba/ColabFold_light\" \"tensorflow-cpu==2.11.0\"\n",
        "  pip uninstall -yq jax jaxlib\n",
        "  pip install -q \"jax[cuda]==0.3.25\" -f https://storage.googleapis.com/jax-releases/jax_cuda_releases.html\n",
        "  touch COLABFOLD_READY\n",
        "fi\n",
        "\n",
        "# setup conda\n",
        "if [ ${USE_AMBER} == \"True\" ] || [ ${USE_TEMPLATES} == \"True\" ]; then\n",
        "  if [ ! -f CONDA_READY ]; then\n",
        "    wget -qnc https://repo.anaconda.com/miniconda/Miniconda3-latest-Linux-x86_64.sh\n",
        "    bash Miniconda3-latest-Linux-x86_64.sh -bfp /usr/local 2>&1 1>/dev/null\n",
        "    rm Miniconda3-latest-Linux-x86_64.sh\n",
        "    touch CONDA_READY\n",
        "  fi\n",
        "fi\n",
        "# setup template search\n",
        "if [ ${USE_TEMPLATES} == \"True\" ] && [ ! -f HH_READY ]; then\n",
        "  conda install -y -q -c conda-forge -c bioconda kalign2=2.04 hhsuite=3.3.0 python=\"${PYTHON_VERSION}\" 2>&1 1>/dev/null\n",
        "  touch HH_READY\n",
        "fi\n",
        "# setup openmm for amber refinement\n",
        "if [ ${USE_AMBER} == \"True\" ] && [ ! -f AMBER_READY ]; then\n",
        "  conda install -y -q -c conda-forge openmm=7.5.1 python=\"${PYTHON_VERSION}\" pdbfixer cryptography==38.0.4 2>&1 1>/dev/null\n",
        "  touch AMBER_READY\n",
        "fi"
      ]
    },
    {
      "cell_type": "markdown",
      "metadata": {
        "id": "W6ld-caH6zOU"
      },
      "source": [
        "# Interactable"
      ]
    },
    {
      "cell_type": "code",
      "execution_count": null,
      "metadata": {
        "cellView": "form",
        "id": "UAFvrRhk67Bx"
      },
      "outputs": [],
      "source": [
        "#@title Input protein sequence, then hit `Runtime` -> `Run all`\n",
        "#@markdown ## Paths\n",
        "input_dir = '/content/drive/MyDrive/Biotech_Work/Dev_files/ColabFold_runs/IO/input/shaped_negatives_reduced.csv' #@param {type:\"string\"}\n",
        "result_dir = '/content/drive/MyDrive/Biotech_Work/Dev_files/ColabFold_runs/IO/output' #@param {type:\"string\"}\n",
        "#@markdown input file : dir/file.csv, output dir : folder\n",
        "\n",
        "# number of models to use\n",
        "#@markdown ---\n",
        "#@markdown ## Advanced settings\n",
        "#@markdown #### Models\n",
        "model_type = \"alphafold2_multimer_v3\" #@param [\"auto\", \"alphafold2_ptm\", \"alphafold2_multimer_v1\", \"alphafold2_multimer_v2\", \"alphafold2_multimer_v3\"]\n",
        "#@markdown - if `auto` selected, will use `alphafold2_ptm` for monomer prediction and `alphafold2_multimer_v3` for complex prediction.\n",
        "#@markdown Any of the mode_types can be used (regardless if input is monomer or complex).\n",
        "\n",
        "num_models = 5 #@param [1,2,3,4,5] {type:\"raw\"}\n",
        "\n",
        "#@markdown #### Recycles & Early stop\n",
        "num_recycles = \"5\" #@param [\"auto\", \"0\", \"1\", \"3\", \"5\", \"6\", \"12\", \"24\", \"48\"]\n",
        "recycle_early_stop_tolerance = \"0.5\" #@param [\"auto\", \"0.0\", \"0.5\", \"1.0\"]\n",
        "#@markdown - if `auto` selected, will use 20 recycles if `model_type=alphafold2_multimer_v3` (with tol=0.5), all else 3 recycles (with tol=0.0).\n",
        "rank_by = \"multimer\" #@param [\"auto\", \"plddt\", \"multimer\", \"ptm\", \"iptm\"]\n",
        "stop_at_score = 90 #@param {type:\"string\"}\n",
        "\n",
        "#@markdown #### Sample settings\n",
        "#@markdown -  enable dropouts and increase number of seeds to sample predictions from uncertainty of the model.\n",
        "#@markdown -  decrease `max_msa` to increase uncertainity\n",
        "max_msa = \"auto\" #@param [\"auto\", \"512:1024\", \"256:512\", \"64:128\", \"32:64\", \"16:32\"]\n",
        "num_seeds = 2 #@param [1,2,4,8,16] {type:\"raw\"}\n",
        "use_dropout = True #@param {type:\"boolean\"}\n",
        "\n",
        "#@markdown #### Saving & Misc.\n",
        "recompile_padding = 10\n",
        "do_not_overwrite_results = True #@param {type:\"boolean\"}\n",
        "zip_results = True #@param {type:\"boolean\"}\n",
        "\n",
        "save_all = True #@param {type:\"boolean\"}\n",
        "#@markdown - Necessary to have ticked on to access the distogram\n",
        "actually_save_all = False #@param {type: \"boolean\"}\n",
        "#@markdown - Actually save all in a heavy pickle file (~90MB per rank)\n",
        "save_single_representations = True #@param {type: \"boolean\"}\n",
        "save_pair_representations = False #@param {type: \"boolean\"}\n",
        "save_recycles = False #@param {type:\"boolean\"}\n",
        "save_to_google_drive = True #@param {type:\"boolean\"}\n",
        "#@markdown -  if the save_to_google_drive option was selected, the result zip will be uploaded to your Google Drive\n",
        "dpi = 200 #@param {type:\"integer\"}\n",
        "#@markdown - set dpi for image resolution\n",
        "\n",
        "\n",
        "num_recycles = None if num_recycles == \"auto\" else int(num_recycles)\n",
        "recycle_early_stop_tolerance = None if recycle_early_stop_tolerance == \"auto\" else float(recycle_early_stop_tolerance)\n",
        "if max_msa == \"auto\": max_msa = None\n",
        "\n",
        "\n",
        "if save_to_google_drive:\n",
        "  from pydrive.drive import GoogleDrive\n",
        "  from pydrive.auth import GoogleAuth\n",
        "  from google.colab import auth\n",
        "  from oauth2client.client import GoogleCredentials\n",
        "  auth.authenticate_user()\n",
        "  gauth = GoogleAuth()\n",
        "  gauth.credentials = GoogleCredentials.get_application_default()\n",
        "  drive = GoogleDrive(gauth)\n",
        "  print(\"You are logged into Google Drive and are good to go!\")\n",
        "\n",
        "#@markdown Don't forget to hit `Runtime` -> `Run all` after updating the form."
      ]
    },
    {
      "cell_type": "code",
      "execution_count": null,
      "metadata": {
        "cellView": "form",
        "id": "NXJz0ahj7JyL"
      },
      "outputs": [],
      "source": [
        "#@title Run Prediction\n",
        "\n",
        "import sys\n",
        "\n",
        "from colabfold.batch import get_queries, run, set_model_type\n",
        "from colabfold.download import download_alphafold_params#, default_data_dir\n",
        "from colabfold.utils import setup_logging\n",
        "from pathlib import Path\n",
        "\n",
        "# For some reason we need that to get pdbfixer to import\n",
        "if use_amber and f\"/usr/local/lib/python{python_version}/site-packages/\" not in sys.path:\n",
        "    sys.path.insert(0, f\"/usr/local/lib/python{python_version}/site-packages/\")\n",
        "\n",
        "if 'logging_setup' not in globals():\n",
        "    setup_logging(Path(result_dir).joinpath(\"log.txt\"))\n",
        "    logging_setup = True\n",
        "\n",
        "queries, is_complex = get_queries(input_dir)\n",
        "\n",
        "model_type = set_model_type(is_complex, model_type)\n",
        "if \"multimer\" in model_type and max_msa is not None:\n",
        "  use_cluster_profile = False\n",
        "else:\n",
        "  use_cluster_profile = True\n",
        "download_alphafold_params(model_type, Path(\".\"))\n",
        "\n",
        "run(\n",
        "    # I/O\n",
        "    queries=queries,\n",
        "    result_dir=result_dir,\n",
        "    use_templates=use_templates,\n",
        "    use_amber=use_amber,\n",
        "    data_dir=Path(\".\"),\n",
        "    # MSA\n",
        "    msa_mode=msa_mode,\n",
        "    pair_mode=pair_mode,\n",
        "    # Model\n",
        "    model_type=model_type,\n",
        "    is_complex=is_complex,\n",
        "    num_models=num_models, ####################################################\n",
        "    model_order=[1, 2, 3, 4, 5],\n",
        "    # Recycle and Early stop\n",
        "    num_recycles=num_recycles,\n",
        "    recycle_early_stop_tolerance = recycle_early_stop_tolerance,\n",
        "    rank_by=rank_by,\n",
        "    stop_at_score=stop_at_score,\n",
        "    # Sample\n",
        "    # max_seq = max_seq,\n",
        "    num_seeds = num_seeds, ################################################\n",
        "    use_dropout = use_dropout,\n",
        "    # max_extra_seq = None,\n",
        "    use_cluster_profile = use_cluster_profile,\n",
        "    # Save & Misc.\n",
        "    recompile_padding = recompile_padding, #def 10\n",
        "    keep_existing_results=do_not_overwrite_results,\n",
        "    save_single_representations = save_single_representations,\n",
        "    save_pair_representations = save_pair_representations,\n",
        "    save_all = save_all,\n",
        "    actually_save_all = actually_save_all,\n",
        "    zip_results=zip_results,\n",
        "    save_recycles = save_recycles\n",
        "    # prediction_callback,\n",
        "    # use_gpu_relax,\n",
        "    # dpi,\n",
        "    # feature_dict_callback,\n",
        "    # num_ensemble,\n",
        "    # custom_template_path,\n",
        "    # num_relax,\n",
        "    # host_url,\n",
        "    # random_seed = 0,\n",
        ")\n",
        "\n"
      ]
    },
    {
      "cell_type": "code",
      "execution_count": null,
      "metadata": {
        "id": "meMbztqDtJXT"
      },
      "outputs": [],
      "source": []
    },
    {
      "cell_type": "code",
      "execution_count": null,
      "metadata": {
        "id": "K5gX0zULtJS6"
      },
      "outputs": [],
      "source": []
    },
    {
      "cell_type": "code",
      "execution_count": null,
      "metadata": {
        "id": "lidAv7PltJNh"
      },
      "outputs": [],
      "source": []
    },
    {
      "cell_type": "code",
      "execution_count": null,
      "metadata": {
        "id": "DbAX6sYKtJGp"
      },
      "outputs": [],
      "source": []
    },
    {
      "cell_type": "code",
      "execution_count": null,
      "metadata": {
        "id": "TqG8_W7vtI-8"
      },
      "outputs": [],
      "source": []
    },
    {
      "cell_type": "code",
      "execution_count": null,
      "metadata": {
        "id": "7Adxd9OppbHj"
      },
      "outputs": [],
      "source": [
        "# !sudo update-alternatives --install /usr/bin/python3 python3 /usr/bin/python3.9 1\n",
        "# !sudo update-alternatives --config python3\n",
        "\n",
        "# !python3 --version\n",
        "# !sudo apt install python3-pip"
      ]
    }
  ],
  "metadata": {
    "accelerator": "GPU",
    "colab": {
      "provenance": [],
      "gpuClass": "premium"
    },
    "gpuClass": "premium",
    "kernelspec": {
      "display_name": "Python 3",
      "name": "python3"
    },
    "language_info": {
      "name": "python"
    }
  },
  "nbformat": 4,
  "nbformat_minor": 0
}